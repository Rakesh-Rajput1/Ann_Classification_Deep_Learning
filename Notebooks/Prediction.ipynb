{
 "cells": [
  {
   "cell_type": "code",
   "execution_count": 1,
   "id": "a7d8e1fa",
   "metadata": {},
   "outputs": [],
   "source": [
    "import tensorflow as tf\n",
    "from tensorflow.keras.models import load_model\n",
    "import pickle\n",
    "import pandas as pd\n",
    "import numpy as np"
   ]
  },
  {
   "cell_type": "code",
   "execution_count": 2,
   "id": "3fc93955",
   "metadata": {},
   "outputs": [
    {
     "name": "stdout",
     "output_type": "stream",
     "text": [
      "WARNING:tensorflow:From c:\\Users\\asus\\Documents\\code\\DataScience\\Udemy\\Generative_AI\\GenAI_Work\\NLP_in_DL_Pt\\ANN_Pt_Im_1\\Annenv\\Lib\\site-packages\\keras\\src\\backend.py:1398: The name tf.executing_eagerly_outside_functions is deprecated. Please use tf.compat.v1.executing_eagerly_outside_functions instead.\n",
      "\n"
     ]
    }
   ],
   "source": [
    "### Load the pipeline and model file from model folder\n",
    "\n",
    "model=load_model('../model/Annmodel.h5')"
   ]
  },
  {
   "cell_type": "code",
   "execution_count": 3,
   "id": "8f6991bb",
   "metadata": {},
   "outputs": [],
   "source": [
    "## Load pipeline\n",
    "\n",
    "with open(\"../model/model_pipeline.pkl\",\"rb\") as f:\n",
    "    load_pipeline=pickle.load(f)"
   ]
  },
  {
   "cell_type": "code",
   "execution_count": 16,
   "id": "c6855150",
   "metadata": {},
   "outputs": [],
   "source": [
    "## input data for prediction\n",
    "\n",
    "input_data={\n",
    "    'CreditScore':600,\n",
    "    'Geography':'France',\n",
    "    'Gender':'Male',\n",
    "    'Age':40,\n",
    "    'Tenure':3,\n",
    "    'Balance':60000,\n",
    "    'NumOfProducts':2,\n",
    "    'HasCrCard':1,\n",
    "    'IsActiveMember':1,\n",
    "    'EstimatedSalary':50000\n",
    "}\n",
    "\n",
    "# convert dict to datafram\n",
    "input_df=pd.DataFrame([input_data])"
   ]
  },
  {
   "cell_type": "code",
   "execution_count": 19,
   "id": "180063e8",
   "metadata": {},
   "outputs": [],
   "source": [
    "# Transform the input data\n",
    "y_transform=load_pipeline.transform(input_df)"
   ]
  },
  {
   "cell_type": "code",
   "execution_count": 20,
   "id": "b5f75c52",
   "metadata": {},
   "outputs": [
    {
     "name": "stdout",
     "output_type": "stream",
     "text": [
      "1/1 [==============================] - 0s 131ms/step\n"
     ]
    }
   ],
   "source": [
    "# predict data\n",
    "y_pred=model.predict(y_transform)"
   ]
  },
  {
   "cell_type": "code",
   "execution_count": 21,
   "id": "0df4ed65",
   "metadata": {},
   "outputs": [
    {
     "data": {
      "text/plain": [
       "array([[0.02488682]], dtype=float32)"
      ]
     },
     "execution_count": 21,
     "metadata": {},
     "output_type": "execute_result"
    }
   ],
   "source": [
    "y_pred"
   ]
  },
  {
   "cell_type": "code",
   "execution_count": 27,
   "id": "a9d1bd17",
   "metadata": {},
   "outputs": [
    {
     "data": {
      "text/plain": [
       "0.024886822"
      ]
     },
     "execution_count": 27,
     "metadata": {},
     "output_type": "execute_result"
    }
   ],
   "source": [
    "y_pred[0][0]"
   ]
  },
  {
   "cell_type": "code",
   "execution_count": 26,
   "id": "84b4dcae",
   "metadata": {},
   "outputs": [
    {
     "name": "stdout",
     "output_type": "stream",
     "text": [
      "customer are not exit\n"
     ]
    }
   ],
   "source": [
    "for i in y_pred:\n",
    "    if i[0]*100>50:\n",
    "        print(\"customer are exit\")\n",
    "    else:\n",
    "        print(\"customer are not exit\")"
   ]
  },
  {
   "cell_type": "code",
   "execution_count": null,
   "id": "7c0790cc",
   "metadata": {},
   "outputs": [],
   "source": []
  }
 ],
 "metadata": {
  "kernelspec": {
   "display_name": "Python 3",
   "language": "python",
   "name": "python3"
  },
  "language_info": {
   "codemirror_mode": {
    "name": "ipython",
    "version": 3
   },
   "file_extension": ".py",
   "mimetype": "text/x-python",
   "name": "python",
   "nbconvert_exporter": "python",
   "pygments_lexer": "ipython3",
   "version": "3.11.0"
  }
 },
 "nbformat": 4,
 "nbformat_minor": 5
}
